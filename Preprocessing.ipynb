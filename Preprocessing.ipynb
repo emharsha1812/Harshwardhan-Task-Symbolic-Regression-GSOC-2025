{
 "cells": [
  {
   "cell_type": "code",
   "execution_count": 1,
   "id": "564db93a-0444-460d-ab50-737f697e9a29",
   "metadata": {},
   "outputs": [
    {
     "name": "stdout",
     "output_type": "stream",
     "text": [
      "True\n",
      "4\n",
      "0\n",
      "NVIDIA RTX A6000\n"
     ]
    }
   ],
   "source": [
    "import numpy as np \n",
    "import pandas as pd\n",
    "import torch\n",
    "\n",
    "\n",
    "print(torch.cuda.is_available())\n",
    "print(torch.cuda.device_count())\n",
    "print(torch.cuda.current_device())\n",
    "if torch.cuda.is_available():\n",
    "  print(torch.cuda.get_device_name(0))"
   ]
  },
  {
   "cell_type": "code",
   "execution_count": 2,
   "id": "4cdd04b4-1c55-4efb-b7fd-bc7bbca8e55d",
   "metadata": {},
   "outputs": [],
   "source": [
    "eqns_df=pd.read_csv(\"FeynmanEquations.csv\")"
   ]
  },
  {
   "cell_type": "code",
   "execution_count": 3,
   "id": "a77e6f67-a799-4ca3-b046-df136034eebe",
   "metadata": {},
   "outputs": [
    {
     "data": {
      "text/html": [
       "<div>\n",
       "<style scoped>\n",
       "    .dataframe tbody tr th:only-of-type {\n",
       "        vertical-align: middle;\n",
       "    }\n",
       "\n",
       "    .dataframe tbody tr th {\n",
       "        vertical-align: top;\n",
       "    }\n",
       "\n",
       "    .dataframe thead th {\n",
       "        text-align: right;\n",
       "    }\n",
       "</style>\n",
       "<table border=\"1\" class=\"dataframe\">\n",
       "  <thead>\n",
       "    <tr style=\"text-align: right;\">\n",
       "      <th></th>\n",
       "      <th>Filename</th>\n",
       "      <th>Number</th>\n",
       "      <th>Output</th>\n",
       "      <th>Formula</th>\n",
       "      <th># variables</th>\n",
       "      <th>v1_name</th>\n",
       "      <th>v1_low</th>\n",
       "      <th>v1_high</th>\n",
       "      <th>v2_name</th>\n",
       "      <th>v2_low</th>\n",
       "      <th>...</th>\n",
       "      <th>v7_high</th>\n",
       "      <th>v8_name</th>\n",
       "      <th>v8_low</th>\n",
       "      <th>v8_high</th>\n",
       "      <th>v9_name</th>\n",
       "      <th>v9_low</th>\n",
       "      <th>v9_high</th>\n",
       "      <th>v10_name</th>\n",
       "      <th>v10_low</th>\n",
       "      <th>v10_high</th>\n",
       "    </tr>\n",
       "  </thead>\n",
       "  <tbody>\n",
       "    <tr>\n",
       "      <th>0</th>\n",
       "      <td>I.6.2a</td>\n",
       "      <td>1.0</td>\n",
       "      <td>f</td>\n",
       "      <td>exp(-theta**2/2)/sqrt(2*pi)</td>\n",
       "      <td>1.0</td>\n",
       "      <td>theta</td>\n",
       "      <td>1.0</td>\n",
       "      <td>3.0</td>\n",
       "      <td>NaN</td>\n",
       "      <td>NaN</td>\n",
       "      <td>...</td>\n",
       "      <td>NaN</td>\n",
       "      <td>NaN</td>\n",
       "      <td>NaN</td>\n",
       "      <td>NaN</td>\n",
       "      <td>NaN</td>\n",
       "      <td>NaN</td>\n",
       "      <td>NaN</td>\n",
       "      <td>NaN</td>\n",
       "      <td>NaN</td>\n",
       "      <td>NaN</td>\n",
       "    </tr>\n",
       "    <tr>\n",
       "      <th>1</th>\n",
       "      <td>I.6.2</td>\n",
       "      <td>2.0</td>\n",
       "      <td>f</td>\n",
       "      <td>exp(-(theta/sigma)**2/2)/(sqrt(2*pi)*sigma)</td>\n",
       "      <td>2.0</td>\n",
       "      <td>sigma</td>\n",
       "      <td>1.0</td>\n",
       "      <td>3.0</td>\n",
       "      <td>theta</td>\n",
       "      <td>1.0</td>\n",
       "      <td>...</td>\n",
       "      <td>NaN</td>\n",
       "      <td>NaN</td>\n",
       "      <td>NaN</td>\n",
       "      <td>NaN</td>\n",
       "      <td>NaN</td>\n",
       "      <td>NaN</td>\n",
       "      <td>NaN</td>\n",
       "      <td>NaN</td>\n",
       "      <td>NaN</td>\n",
       "      <td>NaN</td>\n",
       "    </tr>\n",
       "    <tr>\n",
       "      <th>2</th>\n",
       "      <td>I.6.2b</td>\n",
       "      <td>3.0</td>\n",
       "      <td>f</td>\n",
       "      <td>exp(-((theta-theta1)/sigma)**2/2)/(sqrt(2*pi)*...</td>\n",
       "      <td>3.0</td>\n",
       "      <td>sigma</td>\n",
       "      <td>1.0</td>\n",
       "      <td>3.0</td>\n",
       "      <td>theta</td>\n",
       "      <td>1.0</td>\n",
       "      <td>...</td>\n",
       "      <td>NaN</td>\n",
       "      <td>NaN</td>\n",
       "      <td>NaN</td>\n",
       "      <td>NaN</td>\n",
       "      <td>NaN</td>\n",
       "      <td>NaN</td>\n",
       "      <td>NaN</td>\n",
       "      <td>NaN</td>\n",
       "      <td>NaN</td>\n",
       "      <td>NaN</td>\n",
       "    </tr>\n",
       "    <tr>\n",
       "      <th>3</th>\n",
       "      <td>I.8.14</td>\n",
       "      <td>4.0</td>\n",
       "      <td>d</td>\n",
       "      <td>sqrt((x2-x1)**2+(y2-y1)**2)</td>\n",
       "      <td>4.0</td>\n",
       "      <td>x1</td>\n",
       "      <td>1.0</td>\n",
       "      <td>5.0</td>\n",
       "      <td>x2</td>\n",
       "      <td>1.0</td>\n",
       "      <td>...</td>\n",
       "      <td>NaN</td>\n",
       "      <td>NaN</td>\n",
       "      <td>NaN</td>\n",
       "      <td>NaN</td>\n",
       "      <td>NaN</td>\n",
       "      <td>NaN</td>\n",
       "      <td>NaN</td>\n",
       "      <td>NaN</td>\n",
       "      <td>NaN</td>\n",
       "      <td>NaN</td>\n",
       "    </tr>\n",
       "    <tr>\n",
       "      <th>4</th>\n",
       "      <td>I.9.18</td>\n",
       "      <td>5.0</td>\n",
       "      <td>F</td>\n",
       "      <td>G*m1*m2/((x2-x1)**2+(y2-y1)**2+(z2-z1)**2)</td>\n",
       "      <td>9.0</td>\n",
       "      <td>m1</td>\n",
       "      <td>1.0</td>\n",
       "      <td>2.0</td>\n",
       "      <td>m2</td>\n",
       "      <td>1.0</td>\n",
       "      <td>...</td>\n",
       "      <td>2.0</td>\n",
       "      <td>z1</td>\n",
       "      <td>3.0</td>\n",
       "      <td>4.0</td>\n",
       "      <td>z2</td>\n",
       "      <td>1.0</td>\n",
       "      <td>2.0</td>\n",
       "      <td>NaN</td>\n",
       "      <td>NaN</td>\n",
       "      <td>NaN</td>\n",
       "    </tr>\n",
       "  </tbody>\n",
       "</table>\n",
       "<p>5 rows × 35 columns</p>\n",
       "</div>"
      ],
      "text/plain": [
       "  Filename  Number Output                                            Formula  \\\n",
       "0   I.6.2a     1.0      f                        exp(-theta**2/2)/sqrt(2*pi)   \n",
       "1    I.6.2     2.0      f        exp(-(theta/sigma)**2/2)/(sqrt(2*pi)*sigma)   \n",
       "2   I.6.2b     3.0      f  exp(-((theta-theta1)/sigma)**2/2)/(sqrt(2*pi)*...   \n",
       "3   I.8.14     4.0      d                        sqrt((x2-x1)**2+(y2-y1)**2)   \n",
       "4   I.9.18     5.0      F         G*m1*m2/((x2-x1)**2+(y2-y1)**2+(z2-z1)**2)   \n",
       "\n",
       "   # variables v1_name  v1_low  v1_high v2_name  v2_low  ...  v7_high v8_name  \\\n",
       "0          1.0   theta     1.0      3.0     NaN     NaN  ...      NaN     NaN   \n",
       "1          2.0   sigma     1.0      3.0   theta     1.0  ...      NaN     NaN   \n",
       "2          3.0   sigma     1.0      3.0   theta     1.0  ...      NaN     NaN   \n",
       "3          4.0      x1     1.0      5.0      x2     1.0  ...      NaN     NaN   \n",
       "4          9.0      m1     1.0      2.0      m2     1.0  ...      2.0      z1   \n",
       "\n",
       "   v8_low  v8_high v9_name  v9_low  v9_high v10_name  v10_low  v10_high  \n",
       "0     NaN      NaN     NaN     NaN      NaN      NaN      NaN       NaN  \n",
       "1     NaN      NaN     NaN     NaN      NaN      NaN      NaN       NaN  \n",
       "2     NaN      NaN     NaN     NaN      NaN      NaN      NaN       NaN  \n",
       "3     NaN      NaN     NaN     NaN      NaN      NaN      NaN       NaN  \n",
       "4     3.0      4.0      z2     1.0      2.0      NaN      NaN       NaN  \n",
       "\n",
       "[5 rows x 35 columns]"
      ]
     },
     "execution_count": 3,
     "metadata": {},
     "output_type": "execute_result"
    }
   ],
   "source": [
    "eqns_df.head()"
   ]
  },
  {
   "cell_type": "code",
   "execution_count": 5,
   "id": "36977351-274d-4926-aaf5-15a61e05b1a7",
   "metadata": {},
   "outputs": [
    {
     "name": "stdout",
     "output_type": "stream",
     "text": [
      "Feynman_with_units/I.14.4: ASCII text\n"
     ]
    },
    {
     "data": {
      "text/plain": [
       "CompletedProcess(args=['file', 'Feynman_with_units/I.14.4'], returncode=0)"
      ]
     },
     "execution_count": 5,
     "metadata": {},
     "output_type": "execute_result"
    }
   ],
   "source": [
    "import subprocess\n",
    "\n",
    "filename = \"Feynman_with_units/I.14.4\"\n",
    "subprocess.run([\"file\", filename])\n"
   ]
  },
  {
   "cell_type": "code",
   "execution_count": 6,
   "id": "8058c152-03e6-4f4f-a170-6d3f2b314ad3",
   "metadata": {},
   "outputs": [
    {
     "name": "stdout",
     "output_type": "stream",
     "text": [
      "['4.227175852873909 1.4623106468919924 4.519595874316855 \\n', '1.0203046231693396 4.222930954801781 9.097620577705683 \\n', '3.6724546362176556 3.5503431247719104 23.14552838371989 \\n', '2.5203380362082526 3.7996498456714174 18.19348724829355 \\n', '4.71994698815859 2.8324528606279804 18.933569878709353 \\n', '2.235942727443416 2.246822762844178 5.6437570438768265 \\n', '2.1929107039522138 2.489820770518747 6.797154207731442 \\n', '2.51043439712696 4.226986706386635 22.427488630263593 \\n', '2.026925069392104 1.1804316949703204 1.4121779379422694 \\n', '4.801282260653573 1.2126101975283667 3.5299591118528784 \\n']\n"
     ]
    }
   ],
   "source": [
    "with open(\"Feynman_with_units/I.14.4\", \"r\") as f:\n",
    "    lines = f.readlines()\n",
    "print(lines[:10])  # print out the first 10 lines\n"
   ]
  },
  {
   "cell_type": "code",
   "execution_count": 2,
   "id": "b1a49aaa-b00b-416c-b198-3acf26fc6166",
   "metadata": {},
   "outputs": [
    {
     "name": "stdout",
     "output_type": "stream",
     "text": [
      "(1000000, 4)\n"
     ]
    }
   ],
   "source": [
    "import pandas as pd\n",
    "\n",
    "df = pd.read_csv(\"Feynman_with_units/III.17.37\", \n",
    "                 sep=r\"\\s+\",  # whitespace separator\n",
    "                 header=None) # no header row\n",
    "print(df.shape)\n"
   ]
  },
  {
   "cell_type": "code",
   "execution_count": 3,
   "id": "cbade95e-9613-4574-bb4b-6a2f7920de69",
   "metadata": {},
   "outputs": [
    {
     "data": {
      "text/html": [
       "<div>\n",
       "<style scoped>\n",
       "    .dataframe tbody tr th:only-of-type {\n",
       "        vertical-align: middle;\n",
       "    }\n",
       "\n",
       "    .dataframe tbody tr th {\n",
       "        vertical-align: top;\n",
       "    }\n",
       "\n",
       "    .dataframe thead th {\n",
       "        text-align: right;\n",
       "    }\n",
       "</style>\n",
       "<table border=\"1\" class=\"dataframe\">\n",
       "  <thead>\n",
       "    <tr style=\"text-align: right;\">\n",
       "      <th></th>\n",
       "      <th>0</th>\n",
       "      <th>1</th>\n",
       "      <th>2</th>\n",
       "      <th>3</th>\n",
       "    </tr>\n",
       "  </thead>\n",
       "  <tbody>\n",
       "    <tr>\n",
       "      <th>0</th>\n",
       "      <td>3.116150</td>\n",
       "      <td>4.261260</td>\n",
       "      <td>4.853011</td>\n",
       "      <td>4.977278</td>\n",
       "    </tr>\n",
       "    <tr>\n",
       "      <th>1</th>\n",
       "      <td>4.396022</td>\n",
       "      <td>1.976419</td>\n",
       "      <td>3.177826</td>\n",
       "      <td>-4.286656</td>\n",
       "    </tr>\n",
       "    <tr>\n",
       "      <th>2</th>\n",
       "      <td>4.555049</td>\n",
       "      <td>3.215873</td>\n",
       "      <td>2.320554</td>\n",
       "      <td>-5.427313</td>\n",
       "    </tr>\n",
       "    <tr>\n",
       "      <th>3</th>\n",
       "      <td>1.334108</td>\n",
       "      <td>2.601124</td>\n",
       "      <td>4.351005</td>\n",
       "      <td>0.107158</td>\n",
       "    </tr>\n",
       "    <tr>\n",
       "      <th>4</th>\n",
       "      <td>3.796019</td>\n",
       "      <td>3.435712</td>\n",
       "      <td>3.874036</td>\n",
       "      <td>-5.901289</td>\n",
       "    </tr>\n",
       "  </tbody>\n",
       "</table>\n",
       "</div>"
      ],
      "text/plain": [
       "          0         1         2         3\n",
       "0  3.116150  4.261260  4.853011  4.977278\n",
       "1  4.396022  1.976419  3.177826 -4.286656\n",
       "2  4.555049  3.215873  2.320554 -5.427313\n",
       "3  1.334108  2.601124  4.351005  0.107158\n",
       "4  3.796019  3.435712  3.874036 -5.901289"
      ]
     },
     "execution_count": 3,
     "metadata": {},
     "output_type": "execute_result"
    }
   ],
   "source": [
    "df.head()"
   ]
  },
  {
   "cell_type": "code",
   "execution_count": null,
   "id": "505c4214-08ed-46dd-970d-d80965446be2",
   "metadata": {},
   "outputs": [],
   "source": []
  }
 ],
 "metadata": {
  "kernelspec": {
   "display_name": "Python 3 (ipykernel)",
   "language": "python",
   "name": "python3"
  },
  "language_info": {
   "codemirror_mode": {
    "name": "ipython",
    "version": 3
   },
   "file_extension": ".py",
   "mimetype": "text/x-python",
   "name": "python",
   "nbconvert_exporter": "python",
   "pygments_lexer": "ipython3",
   "version": "3.10.12"
  }
 },
 "nbformat": 4,
 "nbformat_minor": 5
}
