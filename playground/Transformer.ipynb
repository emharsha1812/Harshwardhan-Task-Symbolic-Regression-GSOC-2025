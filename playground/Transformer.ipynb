{
 "cells": [
  {
   "cell_type": "code",
   "execution_count": 3,
   "id": "8ad564fe-44f0-4106-8fdf-b93938283f76",
   "metadata": {},
   "outputs": [],
   "source": [
    "import torch\n",
    "from torch.utils.data import Dataset\n",
    "import json \n",
    "import pandas as pd\n",
    "\n",
    "        "
   ]
  },
  {
   "cell_type": "code",
   "execution_count": 7,
   "id": "0a10e615-6b09-45c2-b0d4-8656d603355f",
   "metadata": {},
   "outputs": [],
   "source": [
    "with open(\"dataset_encoded.json\", \"r\") as f:\n",
    "    json_string = f.read()\n",
    "    numerical_dict = json.loads(json_string)"
   ]
  },
  {
   "cell_type": "code",
   "execution_count": 8,
   "id": "fb7aa5c7-d0ee-4005-885a-fddb0589ece5",
   "metadata": {},
   "outputs": [],
   "source": [
    "df=pd.DataFrame(list(numerical_dict.items()),columns=['equation_id','tokens'])"
   ]
  },
  {
   "cell_type": "code",
   "execution_count": 9,
   "id": "e1910877-d01e-43cf-bc57-64422ae09a39",
   "metadata": {},
   "outputs": [
    {
     "data": {
      "text/html": [
       "<div>\n",
       "<style scoped>\n",
       "    .dataframe tbody tr th:only-of-type {\n",
       "        vertical-align: middle;\n",
       "    }\n",
       "\n",
       "    .dataframe tbody tr th {\n",
       "        vertical-align: top;\n",
       "    }\n",
       "\n",
       "    .dataframe thead th {\n",
       "        text-align: right;\n",
       "    }\n",
       "</style>\n",
       "<table border=\"1\" class=\"dataframe\">\n",
       "  <thead>\n",
       "    <tr style=\"text-align: right;\">\n",
       "      <th></th>\n",
       "      <th>equation_id</th>\n",
       "      <th>tokens</th>\n",
       "    </tr>\n",
       "  </thead>\n",
       "  <tbody>\n",
       "    <tr>\n",
       "      <th>0</th>\n",
       "      <td>II.8.31</td>\n",
       "      <td>[638, 1013, 1722, 2, 638, 1004, 1722, 2, 638, ...</td>\n",
       "    </tr>\n",
       "    <tr>\n",
       "      <th>1</th>\n",
       "      <td>III.12.43</td>\n",
       "      <td>[638, 1040, 1722, 2, 638, 1133, 1722, 2, 638, ...</td>\n",
       "    </tr>\n",
       "    <tr>\n",
       "      <th>2</th>\n",
       "      <td>I.18.4</td>\n",
       "      <td>[638, 919, 1722, 2, 638, 922, 1722, 2, 638, 92...</td>\n",
       "    </tr>\n",
       "    <tr>\n",
       "      <th>3</th>\n",
       "      <td>II.10.9</td>\n",
       "      <td>[638, 1057, 1722, 2, 638, 1008, 1722, 2, 638, ...</td>\n",
       "    </tr>\n",
       "    <tr>\n",
       "      <th>4</th>\n",
       "      <td>II.11.27</td>\n",
       "      <td>[638, 1536, 1712, 2, 638, 1352, 1712, 2, 638, ...</td>\n",
       "    </tr>\n",
       "  </tbody>\n",
       "</table>\n",
       "</div>"
      ],
      "text/plain": [
       "  equation_id                                             tokens\n",
       "0     II.8.31  [638, 1013, 1722, 2, 638, 1004, 1722, 2, 638, ...\n",
       "1   III.12.43  [638, 1040, 1722, 2, 638, 1133, 1722, 2, 638, ...\n",
       "2      I.18.4  [638, 919, 1722, 2, 638, 922, 1722, 2, 638, 92...\n",
       "3     II.10.9  [638, 1057, 1722, 2, 638, 1008, 1722, 2, 638, ...\n",
       "4    II.11.27  [638, 1536, 1712, 2, 638, 1352, 1712, 2, 638, ..."
      ]
     },
     "execution_count": 9,
     "metadata": {},
     "output_type": "execute_result"
    }
   ],
   "source": [
    "df.head()"
   ]
  },
  {
   "cell_type": "code",
   "execution_count": null,
   "id": "20fbf4a8-cf3a-4a17-8c92-13ccd2fc1346",
   "metadata": {},
   "outputs": [],
   "source": [
    "### Defining Custom dataset using the dataframe\n",
    "class EquationDataset(Dataset):\n",
    "    def __init__(self,dataframe):\n",
    "        self.dataframe=dataframe\n",
    "\n",
    "    def __len__(self):\n",
    "        return len(self.dataframe)\n",
    "\n",
    "    def __getitem__(self,idx):\n",
    "        ### Retrieve the row from the dataframe\n",
    "        row=self.dataframe.iloc[idx]\n",
    "        tokens=row['tokens']\n",
    "        input_ids=torch.tensor(tokens,dtype=torch.long)\n",
    "        return {\"input_ids\":input_ids,\"labels\":input_ids.clone()}\n",
    "\n",
    "\n",
    "    "
   ]
  }
 ],
 "metadata": {
  "kernelspec": {
   "display_name": "harshenv",
   "language": "python",
   "name": "harshenv"
  },
  "language_info": {
   "codemirror_mode": {
    "name": "ipython",
    "version": 3
   },
   "file_extension": ".py",
   "mimetype": "text/x-python",
   "name": "python",
   "nbconvert_exporter": "python",
   "pygments_lexer": "ipython3",
   "version": "3.10.12"
  }
 },
 "nbformat": 4,
 "nbformat_minor": 5
}
