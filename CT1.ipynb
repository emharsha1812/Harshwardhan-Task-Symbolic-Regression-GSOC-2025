{
 "cells": [
  {
   "cell_type": "markdown",
   "metadata": {},
   "source": [
    "# Using openpyxl for Direct Parsing of Formulas\n",
    "\n",
    "Using `pd.read_csv()` and `pd.read_excel()` excludes some formulas. Specifically, 30 formulas are returned as NaN for CSV files and 3 formulas are returned as NaN for Excel files. Therefore, I have used `openpyxl` for direct parsing of the formulas.\n",
    "\n",
    "CSV files are plain text and don't preserve cell metadata such as the actual formula text; they only store the computed values. When Excel exports to CSV, it writes out the result of the formula, not the formula itself. This is why we use libraries like `openpyxl` with the Excel format (XLSX) and set `data_only=False` to retrieve the underlying formula strings."
   ]
  },
  {
   "cell_type": "code",
   "execution_count": 1,
   "metadata": {},
   "outputs": [],
   "source": [
    "\n",
    "from openpyxl import load_workbook\n",
    "wb = load_workbook('FeynmanEquations.xlsx', data_only=False)\n",
    "ws = wb.active\n"
   ]
  },
  {
   "cell_type": "code",
   "execution_count": 2,
   "metadata": {},
   "outputs": [],
   "source": [
    "# Iterate through rows (we start from row 2 because we skip header)\n",
    "formula_col_index = 4 \n",
    "formula_list=[]\n",
    "# Iterate through rows (we start from row 2 because we skip header)\n",
    "for row in ws.iter_rows(min_row=2):\n",
    "    # get cell in formula column\n",
    "    cell = row[formula_col_index - 1]  # zero-indexed\n",
    "    formula_list.append(cell.value)  "
   ]
  },
  {
   "cell_type": "markdown",
   "metadata": {},
   "source": [
    "## Plan for Tokenization\n",
    "\n",
    "### Extract All Unique Variable Names\n",
    "1. Read the `FeynmanEquations.xlsx` file.\n",
    "2. Collect all unique variable names from the columns `v1_name`, `v2_name`, `v3_name`, etc.\n",
    "\n",
    "### Extract All Unique Operators and Functions\n",
    "1. Parse the formula column.\n",
    "2. Extract mathematical operators (`+`, `-`, `*`, `/`, `**`) and functions (`sin`, `cos`, `exp`, etc.).\n",
    "\n",
    "### Merge into a Single Set (Vocabulary)\n",
    "1. Combine the extracted variable names and operators/functions into a single unique set.\n",
    "2. This set forms our tokenization vocabulary.\n",
    "\n",
    "### Tokenize Each Formula Using This Vocabulary\n",
    "1. Convert each formula into a sequence of tokens using the extracted vocabulary.\n"
   ]
  },
  {
   "cell_type": "code",
   "execution_count": null,
   "metadata": {},
   "outputs": [
    {
     "name": "stdout",
     "output_type": "stream",
     "text": [
      "['v1_name', 'v2_name', 'v3_name', 'v4_name', 'v5_name', 'v6_name', 'v7_name', 'v8_name', 'v9_name', 'v10_name']\n",
      "{'x1', 'G', 'q', 'kappa', 't', 'Volt', 'V1', 'M', 'H', 'n', 'mu_drift', 'z2', 'Y', 'Nn', 'pr', 'chi', 'p_d', 'delta', 'sigma_den', 'rho', 'Pwr', 'n_0', 'y2', 'x3', 'epsilon', 'T', 'u', 'U', 'A_vec', 'omega', 'n_rho', 'm1', 'T1', 'Int_0', 'sigma', 'Bx', 'd', 'z', 'a', 'h', 'I_0', 'q2', 'd1', 'theta', 'I2', 'x', 'm2', 'B', 'rho_c_0', 'alpha', 'g_', 'y', 'q1', 'omega_0', 'theta2', 'By', 'V', 'T2', 'd2', 'I1', 'E_n', 'V2', 'z1', 'F', 'y1', 'p', 'r', 'beta', 'Ef', 'v', 'r1', 'y3', 'mom', 'm_0', 'theta1', 'Jz', 'A', 'kb', 'w', 'm', 'c', 'lambd', 'g', 'gamma', 'k', 'C', 'mu', 'x2', 'Bz', 'r2', 'k_spring', 'mob', 'I'}\n"
     ]
    }
   ],
   "source": [
    "## Extract all Uique variable names\n",
    "import pandas as pd\n",
    "import sympy\n",
    "import re\n",
    "\n",
    "df=pd.read_excel('FeynmanEquations.xlsx')\n",
    "variable_columns=[col for col in df.columns if re.match(r'v\\d+_name',col)]\n",
    "\n",
    "\n",
    "print(variable_columns)\n",
    "\n",
    "unique_variables=set()\n",
    "for col in variable_columns:\n",
    "    unique_variables.update(df[col].dropna().astype(str).unique())\n",
    "\n",
    "print(unique_variables)\n",
    "\n"
   ]
  },
  {
   "cell_type": "code",
   "execution_count": 30,
   "metadata": {},
   "outputs": [
    {
     "name": "stdout",
     "output_type": "stream",
     "text": [
      "False\n",
      "False\n",
      "True\n"
     ]
    }
   ],
   "source": [
    "###Checker\n",
    "# print(\"sigma\" in unique_variables )\n",
    "# print(\"pi\" in unique_variables )\n",
    "# print(\"sigma\" in unique_variables )\n",
    "# print(\"omega\" in unique_variables )\n",
    "# print(\"h\" in unique_variables )\n",
    "print(\"ln\" in unique_variables)\n",
    "print(\"Int\" in unique_variables)\n",
    "print(\"delta\" in unique_variables)\n",
    "\n",
    "\n"
   ]
  },
  {
   "cell_type": "code",
   "execution_count": null,
   "metadata": {},
   "outputs": [
    {
     "data": {
      "text/plain": [
       "['exp(-theta**2/2)/sqrt(2*pi)',\n",
       " 'exp(-(theta/sigma)**2/2)/(sqrt(2*pi)*sigma)',\n",
       " 'exp(-((theta-theta1)/sigma)**2/2)/(sqrt(2*pi)*sigma)',\n",
       " 'sqrt((x2-x1)**2+(y2-y1)**2)',\n",
       " 'G*m1*m2/((x2-x1)**2+(y2-y1)**2+(z2-z1)**2)',\n",
       " 'm_0/sqrt(1-v**2/c**2)',\n",
       " 'x1*y1+x2*y2+x3*y3',\n",
       " 'mu*Nn',\n",
       " 'q1*q2*r/(4*pi*epsilon*r**3)',\n",
       " 'q1*r/(4*pi*epsilon*r**3)',\n",
       " 'q2*Ef',\n",
       " 'q*(Ef+B*v*sin(theta))',\n",
       " '1/2*m*(v**2+u**2+w**2)',\n",
       " 'G*m1*m2*(1/r2-1/r1)',\n",
       " 'm*g*z',\n",
       " '1/2*k_spring*x**2',\n",
       " '(x-u*t)/sqrt(1-u**2/c**2)',\n",
       " '(t-u*x/c**2)/sqrt(1-u**2/c**2)',\n",
       " 'm_0*v/sqrt(1-v**2/c**2)',\n",
       " '(u+v)/(1+u*v/c**2)',\n",
       " '(m1*r1+m2*r2)/(m1+m2)',\n",
       " 'r*F*sin(theta)',\n",
       " 'm*r*v*sin(theta)',\n",
       " '1/2*m*(omega**2+omega_0**2)*1/2*x**2',\n",
       " 'q/C',\n",
       " 'arcsin(n*sin(theta2))',\n",
       " '1/(1/d1+n/d2)',\n",
       " 'omega/c',\n",
       " 'sqrt(x1**2+x2**2-2*x1*x2*cos(theta1-theta2))',\n",
       " 'Int_0*sin(n*theta/2)**2/sin(theta/2)**2',\n",
       " 'arcsin(lambd/(n*d))',\n",
       " 'q**2*a**2/(6*pi*epsilon*c**3)',\n",
       " '(1/2*epsilon*c*Ef**2)*(8*pi*r**2/3)*(omega**4/(omega**2-omega_0**2)**2)',\n",
       " 'q*v*B/p',\n",
       " 'omega_0/(1-v/c)',\n",
       " '(1+v/c)/sqrt(1-v**2/c**2)*omega_0',\n",
       " '(h/(2*pi))*omega',\n",
       " 'I1+I2+2*sqrt(I1*I2)*cos(delta)',\n",
       " '4*pi*epsilon*(h/(2*pi))**2/(m*q**2)',\n",
       " '3/2*pr*V',\n",
       " '1/(gamma-1)*pr*V',\n",
       " 'n*kb*T/V',\n",
       " 'n_0*exp(-m*g*x/(kb*T))',\n",
       " 'h/(2*pi)*omega**3/(pi**2*c**2*(exp((h/(2*pi))*omega/(kb*T))-1))',\n",
       " 'mu_drift*q*Volt/d',\n",
       " 'mob*kb*T',\n",
       " '1/(gamma-1)*kb*v/A',\n",
       " 'n*kb*T*ln(V2/V1)',\n",
       " 'sqrt(gamma*pr/rho)',\n",
       " 'm*c**2/sqrt(1-v**2/c**2)',\n",
       " 'x1*(cos(omega*t)+alpha*cos(omega*t)**2)',\n",
       " 'kappa*(T2-T1)*A/d',\n",
       " 'Pwr/(4*pi*r**2)',\n",
       " 'q/(4*pi*epsilon*r)',\n",
       " '1/(4*pi*epsilon)*p_d*cos(theta)/r**2',\n",
       " 'p_d/(4*pi*epsilon)*3*z/r**5*sqrt(x**2+y**2)',\n",
       " 'p_d/(4*pi*epsilon)*3*cos(theta)*sin(theta)/r**3',\n",
       " '3/5*q**2/(4*pi*epsilon*d)',\n",
       " 'epsilon*Ef**2/2',\n",
       " 'sigma_den/epsilon*1/(1+chi)',\n",
       " 'q*Ef/(m*(omega_0**2-omega**2))',\n",
       " 'n_0*(1+p_d*Ef*cos(theta)/(kb*T))',\n",
       " 'n_rho*p_d**2*Ef/(3*kb*T)',\n",
       " 'n*alpha/(1-(n*alpha/3))*epsilon*Ef',\n",
       " '1+n*alpha/(1-(n*alpha/3))',\n",
       " '1/(4*pi*epsilon*c**2)*2*I/r',\n",
       " 'rho_c_0/sqrt(1-v**2/c**2)',\n",
       " 'rho_c_0*v/sqrt(1-v**2/c**2)',\n",
       " '=-mom*B*COS(theta)',\n",
       " '=-p_d*Ef*COS(theta)',\n",
       " 'q/(4*pi*epsilon*r*(1-v/c))',\n",
       " 'sqrt(omega**2/c**2-pi**2/d**2)',\n",
       " 'epsilon*c*Ef**2',\n",
       " 'epsilon*Ef**2',\n",
       " 'q*v/(2*pi*r)',\n",
       " 'q*v*r/2',\n",
       " 'g_*q*B/(2*m)',\n",
       " 'q*h/(4*pi*m)',\n",
       " 'g_*mom*B*Jz/(h/(2*pi))',\n",
       " 'n_0/(exp(mom*B/(kb*T))+exp(-mom*B/(kb*T)))',\n",
       " 'n_rho*mom*tanh(mom*B/(kb*T))',\n",
       " 'mom*H/(kb*T)+(mom*alpha)/(epsilon*c**2*kb*T)*M',\n",
       " 'mom*(1+chi)*B',\n",
       " 'Y*A*x/d',\n",
       " 'Y/(2*(1+sigma))',\n",
       " '1/(exp((h/(2*pi))*omega/(kb*T))-1)',\n",
       " '(h/(2*pi))*omega/(exp((h/(2*pi))*omega/(kb*T))-1)',\n",
       " '2*mom*B/(h/(2*pi))',\n",
       " 'sin(E_n*t/(h/(2*pi)))**2',\n",
       " '(p_d*Ef*t/(h/(2*pi)))*sin((omega-omega_0)*t/2)**2/((omega-omega_0)*t/2)**2',\n",
       " 'mom*sqrt(Bx**2+By**2+Bz**2)',\n",
       " 'n*(h/(2*pi))',\n",
       " '2*E_n*d**2*k/(h/(2*pi))',\n",
       " 'I_0*(exp(q*Volt/(kb*T))-1)',\n",
       " '2*U*(1-cos(k*d))',\n",
       " '(h/(2*pi))**2/(2*E_n*d**2)',\n",
       " '2*pi*alpha/(n*d)',\n",
       " 'beta*(1+alpha*cos(theta))',\n",
       " '-m*q**4/(2*(4*pi*epsilon)**2*(h/(2*pi))**2)*(1/n**2)',\n",
       " '=-rho_c_0*q*A_vec/m']"
      ]
     },
     "execution_count": 17,
     "metadata": {},
     "output_type": "execute_result"
    }
   ],
   "source": [
    "### All mathematical operators and synbols expected \n",
    "formula_list\n",
    "\n",
    "mathematical_symbols=['+','-','*','/','**','exp','sqrt','pi','sin()','cos()','ln()','Int()','tanh()','log()','arcsin()','arctan()','arccos()']\n",
    "\n"
   ]
  },
  {
   "cell_type": "code",
   "execution_count": null,
   "metadata": {},
   "outputs": [],
   "source": []
  }
 ],
 "metadata": {
  "kernelspec": {
   "display_name": "harshenv",
   "language": "python",
   "name": "python3"
  },
  "language_info": {
   "codemirror_mode": {
    "name": "ipython",
    "version": 3
   },
   "file_extension": ".py",
   "mimetype": "text/x-python",
   "name": "python",
   "nbconvert_exporter": "python",
   "pygments_lexer": "ipython3",
   "version": "3.10.12"
  }
 },
 "nbformat": 4,
 "nbformat_minor": 4
}
