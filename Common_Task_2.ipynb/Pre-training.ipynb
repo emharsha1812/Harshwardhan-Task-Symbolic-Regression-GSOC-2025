{
 "cells": [
  {
   "cell_type": "code",
   "execution_count": 1,
   "metadata": {},
   "outputs": [
    {
     "name": "stdout",
     "output_type": "stream",
     "text": [
      "True\n",
      "4\n",
      "0\n",
      "NVIDIA RTX A6000\n"
     ]
    }
   ],
   "source": [
    "import numpy as np \n",
    "import pandas as pd\n",
    "import torch\n",
    "\n",
    "\n",
    "print(torch.cuda.is_available())\n",
    "print(torch.cuda.device_count())\n",
    "print(torch.cuda.current_device())\n",
    "if torch.cuda.is_available():\n",
    "  print(torch.cuda.get_device_name(0))"
   ]
  },
  {
   "cell_type": "code",
   "execution_count": 7,
   "metadata": {},
   "outputs": [
    {
     "name": "stdout",
     "output_type": "stream",
     "text": [
      "(1000000, 4)\n"
     ]
    }
   ],
   "source": [
    "import pandas as pd\n",
    "\n",
    "df = pd.read_csv(\"../Feynman_with_units/III.17.37\", \n",
    "                 sep=r\"\\s+\",  # whitespace separator\n",
    "                 header=None) # no header row\n",
    "print(df.shape)\n"
   ]
  },
  {
   "cell_type": "code",
   "execution_count": 8,
   "metadata": {},
   "outputs": [
    {
     "data": {
      "application/vnd.microsoft.datawrangler.viewer.v0+json": {
       "columns": [
        {
         "name": "index",
         "rawType": "int64",
         "type": "integer"
        },
        {
         "name": "0",
         "rawType": "float64",
         "type": "float"
        },
        {
         "name": "1",
         "rawType": "float64",
         "type": "float"
        },
        {
         "name": "2",
         "rawType": "float64",
         "type": "float"
        },
        {
         "name": "3",
         "rawType": "float64",
         "type": "float"
        }
       ],
       "conversionMethod": "pd.DataFrame",
       "ref": "92d8ce3c-218d-4b07-9b2a-1e2c0f3d23f3",
       "rows": [
        [
         "0",
         "3.116149632964794",
         "4.261259881062589",
         "4.8530106320393",
         "4.9772776741074365"
        ],
        [
         "1",
         "4.3960219710956405",
         "1.9764188978396504",
         "3.177825517156514",
         "-4.286656409948871"
        ],
        [
         "2",
         "4.555049023552867",
         "3.215873476462339",
         "2.3205540106914158",
         "-5.427312534446154"
        ],
        [
         "3",
         "1.3341079021138036",
         "2.601124246278029",
         "4.351004527725966",
         "0.1071576017897802"
        ],
        [
         "4",
         "3.796018694251782",
         "3.4357120431169856",
         "3.87403576994475",
         "-5.901288511108726"
        ]
       ],
       "shape": {
        "columns": 4,
        "rows": 5
       }
      },
      "text/html": [
       "<div>\n",
       "<style scoped>\n",
       "    .dataframe tbody tr th:only-of-type {\n",
       "        vertical-align: middle;\n",
       "    }\n",
       "\n",
       "    .dataframe tbody tr th {\n",
       "        vertical-align: top;\n",
       "    }\n",
       "\n",
       "    .dataframe thead th {\n",
       "        text-align: right;\n",
       "    }\n",
       "</style>\n",
       "<table border=\"1\" class=\"dataframe\">\n",
       "  <thead>\n",
       "    <tr style=\"text-align: right;\">\n",
       "      <th></th>\n",
       "      <th>0</th>\n",
       "      <th>1</th>\n",
       "      <th>2</th>\n",
       "      <th>3</th>\n",
       "    </tr>\n",
       "  </thead>\n",
       "  <tbody>\n",
       "    <tr>\n",
       "      <th>0</th>\n",
       "      <td>3.116150</td>\n",
       "      <td>4.261260</td>\n",
       "      <td>4.853011</td>\n",
       "      <td>4.977278</td>\n",
       "    </tr>\n",
       "    <tr>\n",
       "      <th>1</th>\n",
       "      <td>4.396022</td>\n",
       "      <td>1.976419</td>\n",
       "      <td>3.177826</td>\n",
       "      <td>-4.286656</td>\n",
       "    </tr>\n",
       "    <tr>\n",
       "      <th>2</th>\n",
       "      <td>4.555049</td>\n",
       "      <td>3.215873</td>\n",
       "      <td>2.320554</td>\n",
       "      <td>-5.427313</td>\n",
       "    </tr>\n",
       "    <tr>\n",
       "      <th>3</th>\n",
       "      <td>1.334108</td>\n",
       "      <td>2.601124</td>\n",
       "      <td>4.351005</td>\n",
       "      <td>0.107158</td>\n",
       "    </tr>\n",
       "    <tr>\n",
       "      <th>4</th>\n",
       "      <td>3.796019</td>\n",
       "      <td>3.435712</td>\n",
       "      <td>3.874036</td>\n",
       "      <td>-5.901289</td>\n",
       "    </tr>\n",
       "  </tbody>\n",
       "</table>\n",
       "</div>"
      ],
      "text/plain": [
       "          0         1         2         3\n",
       "0  3.116150  4.261260  4.853011  4.977278\n",
       "1  4.396022  1.976419  3.177826 -4.286656\n",
       "2  4.555049  3.215873  2.320554 -5.427313\n",
       "3  1.334108  2.601124  4.351005  0.107158\n",
       "4  3.796019  3.435712  3.874036 -5.901289"
      ]
     },
     "execution_count": 8,
     "metadata": {},
     "output_type": "execute_result"
    }
   ],
   "source": [
    "df.head()"
   ]
  },
  {
   "cell_type": "code",
   "execution_count": 9,
   "metadata": {},
   "outputs": [],
   "source": [
    "subset_df=df.head(1000)"
   ]
  },
  {
   "cell_type": "code",
   "execution_count": 14,
   "metadata": {},
   "outputs": [
    {
     "name": "stdout",
     "output_type": "stream",
     "text": [
      "Encoded representation: ['-', '123', 'E+3']\n"
     ]
    }
   ],
   "source": [
    "import math\n",
    "\n",
    "def encode_p1000(number):\n",
    "    # Determine the sign token\n",
    "    sign_token = '-' if number < 0 else '+'\n",
    "    \n",
    "    # Work with the absolute value for scientific notation\n",
    "    abs_num = abs(number)\n",
    "    \n",
    "    # Handle zero as a special case\n",
    "    if abs_num == 0:\n",
    "        return [sign_token, \"000\", \"E+0\"]\n",
    "    \n",
    "    # Compute exponent: floor(log10(abs_num))\n",
    "    exponent = int(math.floor(math.log10(abs_num)))\n",
    "    \n",
    "    # Normalize the number to get the mantissa in [1, 10)\n",
    "    normalized = abs_num / (10 ** exponent)\n",
    "    \n",
    "    # Scale the mantissa to the range [0, 1000)\n",
    "    scaled_mantissa = normalized * 100\n",
    "    \n",
    "    # Round to the nearest integer\n",
    "    rounded_mantissa = int(round(scaled_mantissa))\n",
    "    \n",
    "    # Adjust in case rounding pushes the value to 1000\n",
    "    if rounded_mantissa >= 1000:\n",
    "        rounded_mantissa = 100\n",
    "        exponent += 1\n",
    "    \n",
    "    # Format the mantissa as a three-digit string\n",
    "    mantissa_token = f\"{rounded_mantissa:03d}\"\n",
    "    \n",
    "    # Create the exponent token with sign\n",
    "    exponent_sign = '+' if exponent >= 0 else '-'\n",
    "    exponent_token = f\"E{exponent_sign}{abs(exponent)}\"\n",
    "    \n",
    "    return [sign_token, mantissa_token, exponent_token]\n",
    "\n",
    "# Example usage:\n",
    "number = -1234.56\n",
    "encoded = encode_p1000(number)\n",
    "print(\"Encoded representation:\", encoded)"
   ]
  },
  {
   "cell_type": "code",
   "execution_count": 15,
   "metadata": {},
   "outputs": [
    {
     "name": "stdout",
     "output_type": "stream",
     "text": [
      "Encoded representation: ['-', '026', 'E+3']\n"
     ]
    }
   ],
   "source": [
    "import math\n",
    "\n",
    "def encode_p1000(number):\n",
    "    # Determine the sign token\n",
    "    sign_token = '-' if number < 0 else '+'\n",
    "    \n",
    "    # Work with the absolute value for scientific notation\n",
    "    abs_num = abs(number)\n",
    "    \n",
    "    # Handle zero as a special case\n",
    "    if abs_num == 0:\n",
    "        return [sign_token, \"000\", \"E+0\"]\n",
    "    \n",
    "    # Compute exponent: floor(log10(abs_num))\n",
    "    exponent = int(math.floor(math.log10(abs_num)))\n",
    "    \n",
    "    # Normalize the number to get the mantissa in [1, 10)\n",
    "    normalized = abs_num / (10 ** exponent)\n",
    "    \n",
    "    # Optionally, round normalized to a fixed precision (e.g., 3 significant digits)\n",
    "    normalized = round(normalized, 3)\n",
    "    \n",
    "    # Map normalized from [1, 10) to [0, 9)\n",
    "    shifted = normalized - 1  # now in [0, 9)\n",
    "    \n",
    "    # Scale the shifted value to [0, 999]\n",
    "    # Multiply by (999 / 9) = 111\n",
    "    mantissa = int(round(shifted * (999 / 9)))\n",
    "    \n",
    "    # Ensure mantissa is within [0, 999]\n",
    "    if mantissa > 999:\n",
    "        mantissa = 999\n",
    "    \n",
    "    # Format the mantissa as a three-digit string\n",
    "    mantissa_token = f\"{mantissa:03d}\"\n",
    "    \n",
    "    # Create the exponent token with sign (e.g., \"E+3\" or \"E-2\")\n",
    "    exponent_token = f\"E{'+' if exponent >= 0 else ''}{exponent}\"\n",
    "    \n",
    "    return [sign_token, mantissa_token, exponent_token]\n",
    "\n",
    "# Example usage:\n",
    "number = -1234.56\n",
    "encoded = encode_p1000(number)\n",
    "print(\"Encoded representation:\", encoded)\n"
   ]
  },
  {
   "cell_type": "code",
   "execution_count": 16,
   "metadata": {},
   "outputs": [
    {
     "name": "stdout",
     "output_type": "stream",
     "text": [
      "-1234.56 -> [-, 123, E+3]\n",
      "0 -> [+, 000, E+0]\n",
      "56789.0 -> [+, 568, E+4]\n",
      "3.14159 -> [+, 314, E+0]\n",
      "-0.00123 -> [-, 123, E-3]\n"
     ]
    }
   ],
   "source": [
    "import numpy as np\n",
    "\n",
    "def batch_encode_p1000(numbers):\n",
    "    \"\"\"\n",
    "    Encode a batch of numbers using the P1000 scheme.\n",
    "    \n",
    "    Parameters:\n",
    "      numbers (np.ndarray): Array of numbers to encode.\n",
    "      \n",
    "    Returns:\n",
    "      sign_tokens (np.ndarray): Array of sign tokens ('+' or '-').\n",
    "      mantissa_tokens (np.ndarray): Array of mantissa tokens as zero-padded strings.\n",
    "      exponent_tokens (np.ndarray): Array of exponent tokens as strings (e.g., 'E+3').\n",
    "    \"\"\"\n",
    "    # Convert input to numpy array\n",
    "    numbers = np.array(numbers, dtype=float)  # Ensure floating-point\n",
    "    \n",
    "    # Sign tokens: vectorized assignment based on the sign of the numbers\n",
    "    sign_tokens = np.where(numbers < 0, '-', '+')\n",
    "    \n",
    "    # Work with absolute values\n",
    "    abs_numbers = np.abs(numbers)\n",
    "    \n",
    "    # Handle zeros separately to avoid log10 issues\n",
    "    non_zero = abs_numbers > 0\n",
    "    exponent = np.zeros_like(abs_numbers, dtype=int)\n",
    "    normalized = np.zeros_like(abs_numbers, dtype=float)\n",
    "    \n",
    "    # Compute exponent where numbers are non-zero\n",
    "    exponent[non_zero] = np.floor(np.log10(abs_numbers[non_zero])).astype(int)\n",
    "    \n",
    "    # Compute normalized values for non-zero numbers - using float powers to avoid integer power error\n",
    "    normalized[non_zero] = abs_numbers[non_zero] / np.power(10.0, exponent[non_zero])\n",
    "    \n",
    "    # Scale the normalized values to get mantissa in [0, 1000)\n",
    "    # Multiply by 100 since normalized values are in [1, 10)\n",
    "    mantissas = np.round(normalized * 100).astype(int)\n",
    "    \n",
    "    # Correct any mantissa that rounds to 1000\n",
    "    overflow = mantissas >= 1000\n",
    "    if np.any(overflow):\n",
    "        mantissas[overflow] = 100\n",
    "        exponent[overflow] += 1\n",
    "    \n",
    "    # Format mantissas as 3-digit strings\n",
    "    mantissa_tokens = np.array([f\"{m:03d}\" for m in mantissas])\n",
    "    \n",
    "    # Format exponent tokens as strings (e.g., 'E+3' or 'E-2')\n",
    "    exponent_tokens = np.array([f\"E{'+' if e >= 0 else ''}{e}\" for e in exponent])\n",
    "    \n",
    "    return sign_tokens, mantissa_tokens, exponent_tokens\n",
    "\n",
    "# Example usage:\n",
    "numbers = [-1234.56, 0, 56789.0, 3.14159, -0.00123]\n",
    "signs, mantissas, exponents = batch_encode_p1000(numbers)\n",
    "\n",
    "# Display encoded outputs\n",
    "for num, s, m, e in zip(numbers, signs, mantissas, exponents):\n",
    "    print(f\"{num} -> [{s}, {m}, {e}]\")"
   ]
  },
  {
   "cell_type": "code",
   "execution_count": 17,
   "metadata": {},
   "outputs": [
    {
     "name": "stdout",
     "output_type": "stream",
     "text": [
      "-1234.56 -> [-, 026, E+3]\n",
      "0 -> [+, -111, E+0]\n",
      "56789.0 -> [+, 519, E+4]\n",
      "3.14159 -> [+, 238, E+0]\n",
      "-0.00123 -> [-, 026, E-3]\n"
     ]
    }
   ],
   "source": [
    "import numpy as np\n",
    "\n",
    "def batch_encode_p1000(numbers):\n",
    "    \"\"\"\n",
    "    Encode a batch of numbers using the P1000 scheme.\n",
    "    \n",
    "    Parameters:\n",
    "      numbers (np.ndarray): Array of numbers to encode.\n",
    "      \n",
    "    Returns:\n",
    "      sign_tokens (np.ndarray): Array of sign tokens ('+' or '-').\n",
    "      mantissa_tokens (np.ndarray): Array of mantissa tokens as zero-padded strings.\n",
    "      exponent_tokens (np.ndarray): Array of exponent tokens as strings (e.g., 'E+3').\n",
    "    \"\"\"\n",
    "    # Convert input to numpy array with float type\n",
    "    numbers = np.array(numbers, dtype=float)\n",
    "    \n",
    "    # Determine sign tokens: '-' for negative, '+' for non-negative\n",
    "    sign_tokens = np.where(numbers < 0, '-', '+')\n",
    "    \n",
    "    # Work with absolute values for further calculations\n",
    "    abs_numbers = np.abs(numbers)\n",
    "    \n",
    "    # Initialize arrays for exponent and normalized values\n",
    "    exponent = np.zeros_like(abs_numbers, dtype=int)\n",
    "    normalized = np.zeros_like(abs_numbers, dtype=float)\n",
    "    \n",
    "    # Identify non-zero numbers to avoid log10 issues with 0\n",
    "    non_zero = abs_numbers > 0\n",
    "    \n",
    "    # Compute exponent as floor(log10(abs(number))) for non-zero numbers\n",
    "    exponent[non_zero] = np.floor(np.log10(abs_numbers[non_zero])).astype(int)\n",
    "    \n",
    "    # Compute normalized values for non-zero numbers: number / 10^exponent\n",
    "    normalized[non_zero] = abs_numbers[non_zero] / np.power(10.0, exponent[non_zero])\n",
    "    \n",
    "    # Isolate the fractional part of the normalized value by subtracting 1\n",
    "    shifted = normalized - 1  # Now in [0, 9)\n",
    "    \n",
    "    # Scale the shifted value to the range [0, 999]\n",
    "    factor = 999 / 9  # equals 111\n",
    "    mantissas = np.round(shifted * factor).astype(int)\n",
    "    \n",
    "    # Correct any mantissa that might exceed 999 due to rounding\n",
    "    overflow = mantissas > 999\n",
    "    if np.any(overflow):\n",
    "        mantissas[overflow] = 999\n",
    "        exponent[overflow] += 1\n",
    "    \n",
    "    # Format the mantissas as three-digit zero-padded strings\n",
    "    mantissa_tokens = np.array([f\"{m:03d}\" for m in mantissas])\n",
    "    \n",
    "    # Format exponent tokens as strings (e.g., 'E+3' or 'E-2')\n",
    "    exponent_tokens = np.array([f\"E{'+' if e >= 0 else ''}{e}\" for e in exponent])\n",
    "    \n",
    "    return sign_tokens, mantissa_tokens, exponent_tokens\n",
    "\n",
    "# Example usage:\n",
    "numbers = [-1234.56, 0, 56789.0, 3.14159, -0.00123]\n",
    "signs, mantissas, exponents = batch_encode_p1000(numbers)\n",
    "\n",
    "# Display encoded outputs\n",
    "for num, s, m, e in zip(numbers, signs, mantissas, exponents):\n",
    "    print(f\"{num} -> [{s}, {m}, {e}]\")\n"
   ]
  },
  {
   "cell_type": "code",
   "execution_count": 19,
   "metadata": {},
   "outputs": [
    {
     "name": "stdout",
     "output_type": "stream",
     "text": [
      "Decoded number for ['-', '026', 'E+3']: -1234.2342342342342\n"
     ]
    }
   ],
   "source": [
    "import math\n",
    "\n",
    "def decode_p1000(sign_token, mantissa_token, exponent_token):\n",
    "    \"\"\"\n",
    "    Decode a single number from its P1000 encoded triplet.\n",
    "    \n",
    "    Parameters:\n",
    "      sign_token (str): '+' or '-'\n",
    "      mantissa_token (str): three-digit string representing the mantissa\n",
    "      exponent_token (str): string in the form 'E+3' or 'E-2'\n",
    "      \n",
    "    Returns:\n",
    "      float: the decoded number.\n",
    "    \"\"\"\n",
    "    # Special case: if encoded as zero\n",
    "    if mantissa_token == \"000\" and exponent_token == \"E+0\":\n",
    "        return 0.0\n",
    "    \n",
    "    # Parse the mantissa token as integer\n",
    "    mantissa_int = int(mantissa_token)\n",
    "    \n",
    "    # Parse the exponent value (remove the 'E' and convert to integer)\n",
    "    exponent = int(exponent_token[1:])\n",
    "    \n",
    "    # Reverse the scaling: we previously scaled by 111 (999/9)\n",
    "    # The fractional part is then recovered by dividing by 111\n",
    "    fractional_part = mantissa_int / 111.0\n",
    "    \n",
    "    # Add back the 1 we subtracted during encoding to get the normalized value\n",
    "    normalized = 1 + fractional_part\n",
    "    \n",
    "    # Reconstruct the original number magnitude\n",
    "    number = normalized * (10 ** exponent)\n",
    "    \n",
    "    # Apply the sign\n",
    "    if sign_token == '-':\n",
    "        number = -number\n",
    "    \n",
    "    return number\n",
    "\n",
    "# Example usage:\n",
    "encoded_examples = [\n",
    "    ('-', \"026\", \"E+3\"),  # expected to correspond to a value near -1234.56\n",
    "    ('+', \"000\", \"E+0\"),  # zero\n",
    "    ('+', \"XYZ\", \"E+3\")   # Example: replace XYZ with an actual token from your encoding\n",
    "]\n",
    "\n",
    "# For the first example:\n",
    "decoded_number = decode_p1000('-', \"026\", \"E+3\")\n",
    "print(\"Decoded number for ['-', '026', 'E+3']:\", decoded_number)\n"
   ]
  },
  {
   "cell_type": "code",
   "execution_count": 20,
   "metadata": {},
   "outputs": [
    {
     "name": "stdout",
     "output_type": "stream",
     "text": [
      "Batch decoded numbers: [-1234.23423423     0.          2108.10810811]\n"
     ]
    }
   ],
   "source": [
    "import numpy as np\n",
    "\n",
    "def batch_decode_p1000(sign_tokens, mantissa_tokens, exponent_tokens):\n",
    "    \"\"\"\n",
    "    Decode a batch of numbers encoded using the P1000 scheme.\n",
    "    \n",
    "    Parameters:\n",
    "      sign_tokens (np.ndarray): Array of sign tokens ('+' or '-').\n",
    "      mantissa_tokens (np.ndarray): Array of mantissa tokens as zero-padded strings.\n",
    "      exponent_tokens (np.ndarray): Array of exponent tokens as strings (e.g., 'E+3').\n",
    "      \n",
    "    Returns:\n",
    "      np.ndarray: Array of decoded numbers.\n",
    "    \"\"\"\n",
    "    decoded_numbers = []\n",
    "    for s, m, e in zip(sign_tokens, mantissa_tokens, exponent_tokens):\n",
    "        decoded_numbers.append(decode_p1000(s, m, e))\n",
    "    return np.array(decoded_numbers)\n",
    "\n",
    "# Example batch decoding:\n",
    "signs = np.array(['-', '+', '+'])\n",
    "mantissas = np.array([\"026\", \"000\", \"123\"])  # Use appropriate mantissa tokens for your examples\n",
    "exponents = np.array([\"E+3\", \"E+0\", \"E+3\"])\n",
    "decoded_batch = batch_decode_p1000(signs, mantissas, exponents)\n",
    "print(\"Batch decoded numbers:\", decoded_batch)\n"
   ]
  },
  {
   "cell_type": "code",
   "execution_count": null,
   "metadata": {},
   "outputs": [],
   "source": []
  }
 ],
 "metadata": {
  "kernelspec": {
   "display_name": "harshenv",
   "language": "python",
   "name": "harshenv"
  },
  "language_info": {
   "codemirror_mode": {
    "name": "ipython",
    "version": 3
   },
   "file_extension": ".py",
   "mimetype": "text/x-python",
   "name": "python",
   "nbconvert_exporter": "python",
   "pygments_lexer": "ipython3",
   "version": "3.10.12"
  }
 },
 "nbformat": 4,
 "nbformat_minor": 2
}
