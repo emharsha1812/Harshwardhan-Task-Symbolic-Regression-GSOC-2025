{
 "cells": [
  {
   "cell_type": "markdown",
   "metadata": {},
   "source": [
    "# Using openpyxl for Direct Parsing of Formulas\n",
    "\n",
    "Using `pd.read_csv()` and `pd.read_excel()` excludes some formulas. Specifically, 30 formulas are returned as NaN for CSV files and 3 formulas are returned as NaN for Excel files. Therefore, I have used `openpyxl` for direct parsing of the formulas.\n",
    "\n",
    "CSV files are plain text and don't preserve cell metadata such as the actual formula text; they only store the computed values. When Excel exports to CSV, it writes out the result of the formula, not the formula itself. This is why we use libraries like `openpyxl` with the Excel format (XLSX) and set `data_only=False` to retrieve the underlying formula strings."
   ]
  },
  {
   "cell_type": "code",
   "execution_count": 2,
   "metadata": {},
   "outputs": [
    {
     "name": "stdout",
     "output_type": "stream",
     "text": [
      "Formulas saved to formulas.txt\n"
     ]
    }
   ],
   "source": [
    "from openpyxl import load_workbook\n",
    "wb = load_workbook('FeynmanEquations.xlsx', data_only=False)\n",
    "ws = wb.active\n",
    "\n",
    "# Iterate through rows (we start from row 2 because we skip header)\n",
    "formula_col_index = 4 \n",
    "formula_list=[]\n",
    "# Iterate through rows (we start from row 2 because we skip header)\n",
    "for row in ws.iter_rows(min_row=2):\n",
    "    # get cell in formula column\n",
    "    cell = row[formula_col_index - 1]  # zero-indexed\n",
    "    formula_list.append(cell.value) \n",
    "    \n",
    "\n",
    "##Save the formula_list in a text file\n",
    "filename = \"formulas.txt\"\n",
    "\n",
    "with open(filename, \"w\") as f:\n",
    "    for formula in formula_list:\n",
    "        f.write(formula + \"\\n\")\n",
    "\n",
    "print(f\"Formulas saved to {filename}\")\n"
   ]
  },
  {
   "cell_type": "markdown",
   "metadata": {},
   "source": [
    "## Plan for Tokenization\n",
    "\n",
    "### Extract All Unique Variable Names\n",
    "1. Read the `FeynmanEquations.xlsx` file.\n",
    "2. Collect all unique variable names from the columns `v1_name`, `v2_name`, `v3_name`, etc.\n",
    "\n",
    "### Extract All Unique Operators and Functions\n",
    "1. Parse the formula column.\n",
    "2. Extract mathematical operators (`+`, `-`, `*`, `/`, `**`) and functions (`sin`, `cos`, `exp`, etc.).\n",
    "\n",
    "### Merge into a Single Set (Vocabulary)\n",
    "1. Combine the extracted variable names and operators/functions into a single unique set.\n",
    "2. This set forms our tokenization vocabulary.\n",
    "\n",
    "### Tokenize Each Formula Using This Vocabulary\n",
    "1. Convert each formula into a sequence of tokens using the extracted vocabulary.\n"
   ]
  },
  {
   "cell_type": "code",
   "execution_count": 3,
   "metadata": {},
   "outputs": [
    {
     "name": "stdout",
     "output_type": "stream",
     "text": [
      "{'epsilon', 'c', 'delta', 'I2', 'mob', 'H', 'x', 'r', 'm2', 'kappa', 'm_0', 'I_0', 'Bz', 'Y', 'y3', 'rho', 'r1', 'q2', 'd1', 'p_d', 'Bx', 'pr', 'theta2', 'u', 'B', 'r2', 'n_rho', 't', 'a', 'w', 'v', 'mu_drift', 'F', 'd2', 'y1', 'y', 'By', 'omega_0', 'G', 'T1', 'T', 'mom', 'E_n', 'g_', 'm', 'm1', 'k_spring', 'Jz', 'I1', 'x1', 'sigma', 'V1', 'Ef', 'mu', 'd', 'x3', 'p', 'sigma_den', 'V', 'g', 'A', 'alpha', 'U', 'omega', 'Pwr', 'theta', 'q1', 'V2', 'beta', 'Nn', 'z1', 'n_0', 'n', 'y2', 'k', 'lambd', 'z', 'h', 'C', 'z2', 'chi', 'q', 'theta1', 'kb', 'x2', 'A_vec', 'rho_c_0', 'I', 'M', 'T2', 'Int_0', 'gamma', 'Volt'}\n"
     ]
    }
   ],
   "source": [
    "## Extract all Uique variable names\n",
    "import pandas as pd\n",
    "import sympy\n",
    "import re\n",
    "\n",
    "df=pd.read_excel('FeynmanEquations.xlsx')\n",
    "variable_columns=[col for col in df.columns if re.match(r'v\\d+_name',col)]\n",
    "\n",
    "\n",
    "# print(variable_columns)\n",
    "\n",
    "unique_variables=set()\n",
    "for col in variable_columns:\n",
    "    unique_variables.update(df[col].dropna().astype(str).unique())\n",
    "\n",
    "print(unique_variables)\n",
    "\n"
   ]
  },
  {
   "cell_type": "code",
   "execution_count": 4,
   "metadata": {},
   "outputs": [],
   "source": [
    "mathematical_symbols = ['+', '-', '*', '/', '**', 'exp', 'sqrt', 'pi', 'sin', 'cos', 'ln', 'Int', 'tanh', 'log', 'arcsin', 'arctan', 'arccos']\n",
    "\n",
    "TOKEN_DICT = {\n",
    "    \"<PAD>\": 0,\n",
    "    \"<UNK>\": 1,\n",
    "}\n",
    "\n",
    "## Additionally we will need a-z, A-Z and 0-9 as tokens too\n",
    "## Index Variables A_10 to Z_10, A1 to Z10 \n",
    "\n",
    "#a-z \n",
    "for i, letter in enumerate(\"abcdefghijklmnopqrstuvwxyz\", start=len(TOKEN_DICT)):\n",
    "    TOKEN_DICT[letter] = i\n",
    "    \n",
    "#A-Z\n",
    "for i, letter in enumerate(\"ABCDEFGHIJKLMNOPQRSTUVWXYZ\", start=len(TOKEN_DICT)):\n",
    "    TOKEN_DICT[letter] = i\n",
    "    \n",
    "# 3. Add numbers 0-9\n",
    "for i in range(10):\n",
    "    TOKEN_DICT[str(i)] = len(TOKEN_DICT)\n",
    "    \n",
    "## Indexed variables (A_0 to Z_10 and A1 to Z10)\n",
    "for letter in \"ABCDEFGHIJKLMNOPQRSTUVWXYZ\":\n",
    "    for num in range(11):  # 0-10\n",
    "        TOKEN_DICT[f\"{letter}_{num}\"] = len(TOKEN_DICT)\n",
    "        TOKEN_DICT[f\"{letter}{num}\"] = len(TOKEN_DICT)\n",
    "\n",
    "\n",
    "## Now add all mathematical symbols\n",
    "for index, symbol in enumerate(mathematical_symbols):\n",
    "    TOKEN_DICT[symbol] = index + (max(TOKEN_DICT.values()) + 1)  # Start index from 2\n",
    "\n",
    "\n",
    "\n",
    "current_index=max(TOKEN_DICT.values())+1\n",
    "for var in unique_variables:\n",
    "    TOKEN_DICT[var]=current_index\n",
    "    current_index+=1\n",
    "    \n",
    "\n",
    "        \n",
    "## Now at the last, just go through the equations to add any left tokens\n",
    "def extract_equation_tokens(equation: str):\n",
    "    pattern = r\"(?:\\*\\*|[+\\-*/=()^]|[A-Za-z_]+|\\d+(?:\\.\\d+)?)\"\n",
    "    tokens = re.findall(pattern, equation)\n",
    "    return tokens\n",
    "\n",
    "new_tokens=set()\n",
    "for eq in formula_list:\n",
    "    tokens_in_eq=extract_equation_tokens(eq)\n",
    "    new_tokens.update(tokens_in_eq)\n",
    "    \n",
    "current_index=max(TOKEN_DICT.values()) + 1\n",
    "\n",
    "for token in new_tokens:\n",
    "    if token not in TOKEN_DICT:\n",
    "        TOKEN_DICT[token]=current_index\n",
    "        current_index+=1"
   ]
  },
  {
   "cell_type": "code",
   "execution_count": 5,
   "metadata": {},
   "outputs": [
    {
     "name": "stdout",
     "output_type": "stream",
     "text": [
      "Tokens: ['E', '=', 'sin', '(', 'pi', '*', 'x', ')', '+', 'theta', '_', '1', '2']\n"
     ]
    }
   ],
   "source": [
    "##  Use TOKEN_DICT as a “Seed” for a Subword Tokenize\n",
    "from tokenizers import Tokenizer, trainers, models, pre_tokenizers\n",
    "\n",
    "\n",
    "# Step 1: Convert your existing TOKEN_DICT to special tokens\n",
    "special_tokens = list(TOKEN_DICT.keys())  # e.g. [\"<PAD>\", \"<UNK>\", \"+\", \"-\", \"*\", ...]\n",
    "\n",
    "\n",
    "# Step 2: Initialize a subword tokenizer (e.g. BPE)\n",
    "tokenizer = Tokenizer(models.BPE(unk_token=\"<UNK>\"))\n",
    "tokenizer.pre_tokenizer = pre_tokenizers.Whitespace()\n",
    "\n",
    "# Step 3: Prepare trainer\n",
    "trainer = trainers.BpeTrainer(\n",
    "    vocab_size=2000,  # or however large\n",
    "    special_tokens=special_tokens\n",
    ")\n",
    "\n",
    "\n",
    "\n",
    "# Step 4: Provide your corpus in lines, ideally pre-tokenized or raw text\n",
    "files = [\"formulas.txt\"]\n",
    "\n",
    "\n",
    "tokenizer.train(files, trainer)\n",
    "\n",
    "# Step 6: Test the resulting tokenizer\n",
    "encoded = tokenizer.encode(\"E = sin(pi*x) + theta_12\")\n",
    "print(\"Tokens:\", encoded.tokens)"
   ]
  },
  {
   "cell_type": "code",
   "execution_count": 6,
   "metadata": {},
   "outputs": [],
   "source": [
    "tokenizer.save(\"my_tokenizer.json\")"
   ]
  }
 ],
 "metadata": {
  "kernelspec": {
   "display_name": "scirex",
   "language": "python",
   "name": "python3"
  },
  "language_info": {
   "codemirror_mode": {
    "name": "ipython",
    "version": 3
   },
   "file_extension": ".py",
   "mimetype": "text/x-python",
   "name": "python",
   "nbconvert_exporter": "python",
   "pygments_lexer": "ipython3",
   "version": "3.10.16"
  }
 },
 "nbformat": 4,
 "nbformat_minor": 2
}
