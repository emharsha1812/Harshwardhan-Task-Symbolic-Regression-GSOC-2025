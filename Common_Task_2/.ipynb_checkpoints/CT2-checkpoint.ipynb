{
 "cells": [
  {
   "cell_type": "code",
   "execution_count": 8,
   "id": "4e04cdae-86b4-40c6-a7ff-e3ad723b00d0",
   "metadata": {},
   "outputs": [
    {
     "name": "stdout",
     "output_type": "stream",
     "text": [
      "(1000, 3)\n"
     ]
    }
   ],
   "source": [
    "import pandas as pd\n",
    "import numpy as np\n",
    "import os\n",
    "\n",
    "df = pd.read_csv(\"../Feynman_with_units/I.6.2\", \n",
    "                 sep=r\"\\s+\",  # whitespace separator\n",
    "                 header=None).head(1000) # no header row\n",
    "print(df.shape)"
   ]
  },
  {
   "cell_type": "code",
   "execution_count": 9,
   "id": "cb47f65e-cd6d-4b73-82aa-2aa2564f587b",
   "metadata": {},
   "outputs": [
    {
     "data": {
      "text/html": [
       "<div>\n",
       "<style scoped>\n",
       "    .dataframe tbody tr th:only-of-type {\n",
       "        vertical-align: middle;\n",
       "    }\n",
       "\n",
       "    .dataframe tbody tr th {\n",
       "        vertical-align: top;\n",
       "    }\n",
       "\n",
       "    .dataframe thead th {\n",
       "        text-align: right;\n",
       "    }\n",
       "</style>\n",
       "<table border=\"1\" class=\"dataframe\">\n",
       "  <thead>\n",
       "    <tr style=\"text-align: right;\">\n",
       "      <th></th>\n",
       "      <th>0</th>\n",
       "      <th>1</th>\n",
       "      <th>2</th>\n",
       "    </tr>\n",
       "  </thead>\n",
       "  <tbody>\n",
       "    <tr>\n",
       "      <th>0</th>\n",
       "      <td>2.564830</td>\n",
       "      <td>1.066371</td>\n",
       "      <td>0.142664</td>\n",
       "    </tr>\n",
       "    <tr>\n",
       "      <th>1</th>\n",
       "      <td>2.893217</td>\n",
       "      <td>2.871331</td>\n",
       "      <td>0.084266</td>\n",
       "    </tr>\n",
       "    <tr>\n",
       "      <th>2</th>\n",
       "      <td>2.315051</td>\n",
       "      <td>1.634639</td>\n",
       "      <td>0.134303</td>\n",
       "    </tr>\n",
       "    <tr>\n",
       "      <th>3</th>\n",
       "      <td>1.429826</td>\n",
       "      <td>2.852188</td>\n",
       "      <td>0.038156</td>\n",
       "    </tr>\n",
       "    <tr>\n",
       "      <th>4</th>\n",
       "      <td>2.293785</td>\n",
       "      <td>2.828017</td>\n",
       "      <td>0.081336</td>\n",
       "    </tr>\n",
       "  </tbody>\n",
       "</table>\n",
       "</div>"
      ],
      "text/plain": [
       "          0         1         2\n",
       "0  2.564830  1.066371  0.142664\n",
       "1  2.893217  2.871331  0.084266\n",
       "2  2.315051  1.634639  0.134303\n",
       "3  1.429826  2.852188  0.038156\n",
       "4  2.293785  2.828017  0.081336"
      ]
     },
     "execution_count": 9,
     "metadata": {},
     "output_type": "execute_result"
    }
   ],
   "source": [
    "df.head()"
   ]
  },
  {
   "cell_type": "code",
   "execution_count": 10,
   "id": "36040796-22f1-4d86-96b2-91255e618951",
   "metadata": {},
   "outputs": [],
   "source": [
    "def batch_encode_p1000(numbers):\n",
    "    \"\"\"\n",
    "    Encode a batch of numbers using the P1000 scheme.\n",
    "    \n",
    "    Parameters:\n",
    "      numbers (np.ndarray): Array of numbers to encode.\n",
    "      \n",
    "    Returns:\n",
    "      sign_tokens (np.ndarray): Array of sign tokens ('+' or '-').\n",
    "      mantissa_tokens (np.ndarray): Array of mantissa tokens as zero-padded strings.\n",
    "      exponent_tokens (np.ndarray): Array of exponent tokens as strings (e.g., 'E+3').\n",
    "    \"\"\"\n",
    "    # Convert input to numpy array\n",
    "    numbers = np.array(numbers, dtype=float)  # Ensure floating-point\n",
    "    \n",
    "    # Sign tokens: vectorized assignment based on the sign of the numbers\n",
    "    sign_tokens = np.where(numbers < 0, '-', '+')\n",
    "    \n",
    "    # Work with absolute values\n",
    "    abs_numbers = np.abs(numbers)\n",
    "    \n",
    "    # Handle zeros separately to avoid log10 issues\n",
    "    non_zero = abs_numbers > 0\n",
    "    exponent = np.zeros_like(abs_numbers, dtype=int)\n",
    "    normalized = np.zeros_like(abs_numbers, dtype=float)\n",
    "    \n",
    "    # Compute exponent where numbers are non-zero\n",
    "    exponent[non_zero] = np.floor(np.log10(abs_numbers[non_zero])).astype(int)\n",
    "    \n",
    "    # Compute normalized values for non-zero numbers - using float powers to avoid integer power error\n",
    "    normalized[non_zero] = abs_numbers[non_zero] / np.power(10.0, exponent[non_zero])\n",
    "    \n",
    "    # Scale the normalized values to get mantissa in [0, 1000)\n",
    "    # Multiply by 100 since normalized values are in [1, 10)\n",
    "    mantissas = np.round(normalized * 100).astype(int)\n",
    "    \n",
    "    # Correct any mantissa that rounds to 1000\n",
    "    overflow = mantissas >= 1000\n",
    "    if np.any(overflow):\n",
    "        mantissas[overflow] = 100\n",
    "        exponent[overflow] += 1\n",
    "    \n",
    "    # Format mantissas as 3-digit strings\n",
    "    mantissa_tokens = np.array([f\"{m:03d}\" for m in mantissas])\n",
    "    \n",
    "    # Format exponent tokens as strings (e.g., 'E+3' or 'E-2')\n",
    "    exponent_tokens = np.array([f\"E{'+' if e >= 0 else ''}{e}\" for e in exponent])\n",
    "    \n",
    "    return sign_tokens, mantissa_tokens, exponent_tokens\n",
    "\n",
    "\n",
    "\n",
    "\n",
    "    \n",
    "    \n"
   ]
  },
  {
   "cell_type": "code",
   "execution_count": 11,
   "id": "d84ee2f7-1cf8-4aa9-b52e-63b5b73a4cf8",
   "metadata": {},
   "outputs": [],
   "source": [
    "\n",
    "\n",
    "# Assuming batch_encode_p1000 function is already defined above\n",
    "\n",
    "def process_file_with_columns(file_path, col_sep_token=\"[COL_SEP]\"):\n",
    "    \"\"\"\n",
    "    Process a single CSV file containing numerical data.\n",
    "    Encodes each number using the P1000 scheme and preserves column structure by\n",
    "    inserting a delimiter token between columns.\n",
    "    \n",
    "    Returns a list of tokens for the entire file.\n",
    "    \"\"\"\n",
    "    # Read the CSV file into a DataFrame\n",
    "    df = pd.read_csv(file_path,sep=r\"\\s+\",header=None).head(1000)\n",
    "    \n",
    "    # We'll build a token list row by row\n",
    "    token_list = []\n",
    "    \n",
    "    # Iterate over each row in the DataFrame\n",
    "    for idx, row in df.iterrows():\n",
    "        row_tokens = []\n",
    "        # Process each column in the row separately\n",
    "        for col in df.columns:\n",
    "            # Encode the number in this cell; each cell may be a single number.\n",
    "            # If a cell contains multiple numbers, you might need to adjust this.\n",
    "            number = row[col]\n",
    "            # For a single number, get the tokens as a list\n",
    "            sign_tokens, mantissa_tokens, exponent_tokens = batch_encode_p1000([number])\n",
    "            # Combine the triplet (they are arrays with one element each)\n",
    "            number_tokens = [sign_tokens[0], mantissa_tokens[0], exponent_tokens[0]]\n",
    "            row_tokens.extend(number_tokens)\n",
    "            # Insert column delimiter after each column (except last column)\n",
    "            if col != df.columns[-1]:\n",
    "                row_tokens.append(col_sep_token)\n",
    "        # Optionally, you can add a row delimiter (e.g., [ROW_SEP]) if needed.\n",
    "        token_list.extend(row_tokens)\n",
    "        token_list.append(\"[ROW_SEP]\")\n",
    "    \n",
    "    return token_list\n",
    "\n",
    "# # Example usage for a single file:\n",
    "# file_path = \"../Feynman_with_units/I.6.2\"  # Update the path as needed\n",
    "# token_list = process_file_with_colum                                                                                                                   ns(file_path)\n",
    "# print(token_list[:20])  # Print first 20 tokens for inspection\n",
    "# print(\"Total tokens in file:\", len(token_list))\n"
   ]
  },
  {
   "cell_type": "code",
   "execution_count": null,
   "id": "77c74b78-cf90-451b-8bd1-74ce3b97c08c",
   "metadata": {},
   "outputs": [],
   "source": [
    "folder = \"Feynman_with_units\"\n",
    "\n",
    "file_list = [f for f in os.listdir(folder) if os.path.isfile(os.path.join(folder, f))]\n",
    "print(file_list)"
   ]
  },
  {
   "cell_type": "code",
   "execution_count": 6,
   "id": "37c7f0aa-0f26-4f90-a8b8-ed2293982d4f",
   "metadata": {
    "scrolled": true
   },
   "outputs": [
    {
     "name": "stdout",
     "output_type": "stream",
     "text": [
      "[np.str_('+'), np.str_('256'), np.str_('E+0'), '[COL_SEP]', np.str_('+'), np.str_('107'), np.str_('E+0'), '[COL_SEP]', np.str_('+'), np.str_('143')]\n",
      "12000\n",
      "+\n",
      "E-1\n"
     ]
    }
   ],
   "source": [
    "def process_all_files_with_columns(folder_path, col_sep_token=\"[COL_SEP]\"):\n",
    "    \"\"\"\n",
    "    Process all CSV files in a folder using the process_file_with_columns function,\n",
    "    returning a dictionary mapping file names to their token sequences.\n",
    "    \"\"\"\n",
    "    all_file_tokens = {}\n",
    "    for file_name in os.listdir(folder_path):\n",
    "        if file_name.endswith(\".csv\"):  # Adjust if necessary\n",
    "            file_path = os.path.join(folder_path, file_name)\n",
    "            tokens = process_file_with_columns(file_path, col_sep_token)\n",
    "            all_file_tokens[file_name] = tokens\n",
    "            print(f\"Processed {file_name}, token sequence length: {len(tokens)}\")\n",
    "    return all_file_tokens\n",
    "\n",
    "# Example usage:\n",
    "folder_path = \"path/to/your/numerical_files\"\n",
    "all_tokens = process_all_files_with_columns(folder_path)\n"
   ]
  },
  {
   "cell_type": "code",
   "execution_count": 7,
   "id": "61c0ae6a-e6e9-4225-ae1a-397d8d9d96ff",
   "metadata": {},
   "outputs": [
    {
     "name": "stdout",
     "output_type": "stream",
     "text": [
      "12000\n"
     ]
    }
   ],
   "source": [
    "from tokenizers import Tokenizer\n",
    "\n",
    "tokenizer=Tokenizer.from_file(\"my_tokenizer.json\")\n",
    "\n",
    "token_string=\" \".join(token_list)\n",
    "\n",
    "encoded=tokenizer.encode(token_string)\n",
    "\n",
    "encoded_lines=[]\n",
    "encoded_lines.append(encoded)\n",
    "print(len(encoded_lines[0]))\n"
   ]
  },
  {
   "cell_type": "code",
   "execution_count": null,
   "id": "4a2492c4-90a2-43ea-a0f0-0747c4f7dc61",
   "metadata": {},
   "outputs": [],
   "source": []
  }
 ],
 "metadata": {
  "kernelspec": {
   "display_name": "harshenv",
   "language": "python",
   "name": "harshenv"
  },
  "language_info": {
   "codemirror_mode": {
    "name": "ipython",
    "version": 3
   },
   "file_extension": ".py",
   "mimetype": "text/x-python",
   "name": "python",
   "nbconvert_exporter": "python",
   "pygments_lexer": "ipython3",
   "version": "3.10.12"
  }
 },
 "nbformat": 4,
 "nbformat_minor": 5
}
